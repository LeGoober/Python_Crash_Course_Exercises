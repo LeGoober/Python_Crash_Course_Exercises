{
 "cells": [
  {
   "cell_type": "markdown",
   "metadata": {},
   "source": [
    "# Understanding the Python Database API\n",
    ">The process of understanding the Python Database API requires us to know that various programming languages provide [Application Programming Interfaces], that then allow us to use our programming tools(the language itself) to interface with other applications, as the API would allow us to write Python code that will be interpreted in the MySQL database that we use,\n",
    ">\n",
    ">They are some fundamental prerequisites that we would have to consider, such as having Python installed but I'm jumping into the DBMS API,\n",
    ">__1. The Database System Setup__\n",
    ">Since we are able to interface with various database systems, our first choice would then be selecting what DBMS we want to use, as this impacts the application architecture, ranging from the performance to the scalability of the project itself,\n",
    ">->We have the following DBMS systems at our disposal:\n",
    ">\t1. [MySQL] - used for web applications, and has highly robust performance,\n",
    ">\t2. [SQLite] -  lightweight and serverless(performs on the client side) used for smaller projects,\n",
    ">\t3. [PostgreSQL] - advance database queries and data integrity,\n",
    ">->Once we have selected our DBMS, our next goal is then installing the database server on my computer or in a server environment(MySQL workbench), and we install this from the database host website,\n",
    ">\n",
    ">__2. Implementing our Database Adapter__\n",
    ">So in Python, the way in which we import our adapters is fairly similar to how we do it in Java, where before we start coding our application, we import all the necessary packages using the [Package Manager] or out [pip] that allows us to install the package/adapter;\n",
    ">"
   ]
  },
  {
   "cell_type": "code",
   "execution_count": 2,
   "metadata": {
    "vscode": {
     "languageId": "plaintext"
    }
   },
   "outputs": [
    {
     "ename": "ModuleNotFoundError",
     "evalue": "No module named 'mysql.connctor'",
     "output_type": "error",
     "traceback": [
      "\u001b[1;31m---------------------------------------------------------------------------\u001b[0m",
      "\u001b[1;31mModuleNotFoundError\u001b[0m                       Traceback (most recent call last)",
      "Cell \u001b[1;32mIn[2], line 1\u001b[0m\n\u001b[1;32m----> 1\u001b[0m \u001b[38;5;28;01mimport\u001b[39;00m \u001b[38;5;21;01mmysql\u001b[39;00m\u001b[38;5;21;01m.\u001b[39;00m\u001b[38;5;21;01mconnctor\u001b[39;00m\n\u001b[0;32m      3\u001b[0m my_database \u001b[38;5;241m=\u001b[39m mysql\u001b[38;5;241m.\u001b[39mconnector\u001b[38;5;241m.\u001b[39mconnect(\n\u001b[0;32m      4\u001b[0m     host \u001b[38;5;241m=\u001b[39m \u001b[38;5;124m\"\u001b[39m\u001b[38;5;124mlocalhost\u001b[39m\u001b[38;5;124m\"\u001b[39m,\n\u001b[0;32m      5\u001b[0m     user \u001b[38;5;241m=\u001b[39m \u001b[38;5;124m\"\u001b[39m\u001b[38;5;124mAdmin\u001b[39m\u001b[38;5;124m\"\u001b[39m,\n\u001b[0;32m      6\u001b[0m     password \u001b[38;5;241m=\u001b[39m \u001b[38;5;124m\"\u001b[39m\u001b[38;5;124mroot\u001b[39m\u001b[38;5;124m\"\u001b[39m\n\u001b[0;32m      7\u001b[0m )\n\u001b[0;32m      8\u001b[0m \u001b[38;5;28mprint\u001b[39m(my_database)\n",
      "\u001b[1;31mModuleNotFoundError\u001b[0m: No module named 'mysql.connctor'"
     ]
    }
   ],
   "source": [
    "import mysql.connctor\n",
    "\n",
    "my_database = mysql.connector.connect(\n",
    "    host = \"localhost\",\n",
    "    user = \"Admin\",\n",
    "    password = \"root\"\n",
    ")\n",
    "print(my_database)"
   ]
  },
  {
   "cell_type": "code",
   "execution_count": null,
   "metadata": {},
   "outputs": [],
   "source": []
  }
 ],
 "metadata": {
  "kernelspec": {
   "display_name": "Python 3 (ipykernel)",
   "language": "python",
   "name": "python3"
  },
  "language_info": {
   "codemirror_mode": {
    "name": "ipython",
    "version": 3
   },
   "file_extension": ".py",
   "mimetype": "text/x-python",
   "name": "python",
   "nbconvert_exporter": "python",
   "pygments_lexer": "ipython3",
   "version": "3.11.9"
  }
 },
 "nbformat": 4,
 "nbformat_minor": 4
}
