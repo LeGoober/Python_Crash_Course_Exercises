{
 "cells": [
  {
   "cell_type": "markdown",
   "metadata": {},
   "source": [
    "# Understanding the Python Database API\n",
    ">The process of understanding the Python Database API requires us to know that various programming languages provide [Application Programming Interfaces], that then allow us to use our programming tools(the language itself) to interface with other applications, as the API would allow us to write Python code that will be interpreted in the MySQL database that we use,\n",
    ">\n",
    ">They are some fundamental prerequisites that we would have to consider, such as having Python installed but I'm jumping into the DBMS API,\n",
    ">__1. The Database System Setup__\n",
    ">Since we are able to interface with various database systems, our first choice would then be selecting what DBMS we want to use, as this impacts the application architecture, ranging from the performance to the scalability of the project itself,\n",
    ">->We have the following DBMS systems at our disposal:\n",
    ">\t1. [MySQL] - used for web applications, and has highly robust performance,\n",
    ">\t2. [SQLite] -  lightweight and serverless(performs on the client side) used for smaller projects,\n",
    ">\t3. [PostgreSQL] - advance database queries and data integrity,\n",
    ">->Once we have selected our DBMS, our next goal is then installing the database server on my computer or in a server environment(MySQL workbench), and we install this from the database host website,\n",
    ">\n",
    ">__2. Implementing our Database Adapter__\n",
    ">So in Python, the way in which we import our adapters is fairly similar to how we do it in Java, where before we start coding our application, we import all the necessary packages using the [Package Manager] or out [pip] that allows us to install the package/adapter;\n",
    ">"
   ]
  },
  {
   "cell_type": "code",
   "execution_count": null,
   "metadata": {
    "vscode": {
     "languageId": "plaintext"
    }
   },
   "outputs": [],
   "source": [
    "import mysql.connctor\n",
    "\n",
    "my_database = mysql.connector.connect(\n",
    "    host = \"localhost\",\n",
    "    user = \"Admin\",\n",
    "    password = \"root\"\n",
    ")\n",
    "print(my_database)"
   ]
  }
 ],
 "metadata": {
  "language_info": {
   "name": "python"
  }
 },
 "nbformat": 4,
 "nbformat_minor": 2
}
